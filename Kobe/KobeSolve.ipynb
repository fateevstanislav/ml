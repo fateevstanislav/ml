{
 "cells": [
  {
   "cell_type": "code",
   "execution_count": 38,
   "metadata": {
    "collapsed": false
   },
   "outputs": [],
   "source": [
    "import pandas as pd\n",
    "import sklearn as skl\n",
    "from sklearn import *\n",
    "%matplotlib inline\n",
    "import matplotlib.pyplot as plt\n",
    "import xgboost as xgb\n",
    "import numpy as np"
   ]
  },
  {
   "cell_type": "code",
   "execution_count": 40,
   "metadata": {
    "collapsed": false,
    "scrolled": true
   },
   "outputs": [
    {
     "data": {
      "text/html": [
       "<div>\n",
       "<table border=\"1\" class=\"dataframe\">\n",
       "  <thead>\n",
       "    <tr style=\"text-align: right;\">\n",
       "      <th></th>\n",
       "      <th>action_type</th>\n",
       "      <th>combined_shot_type</th>\n",
       "      <th>game_event_id</th>\n",
       "      <th>game_id</th>\n",
       "      <th>lat</th>\n",
       "      <th>loc_x</th>\n",
       "      <th>loc_y</th>\n",
       "      <th>lon</th>\n",
       "      <th>minutes_remaining</th>\n",
       "      <th>period</th>\n",
       "      <th>playoffs</th>\n",
       "      <th>season</th>\n",
       "      <th>seconds_remaining</th>\n",
       "      <th>shot_distance</th>\n",
       "      <th>shot_made_flag</th>\n",
       "      <th>shot_type</th>\n",
       "      <th>shot_zone_area</th>\n",
       "      <th>shot_zone_basic</th>\n",
       "      <th>shot_zone_range</th>\n",
       "      <th>team_id</th>\n",
       "      <th>team_name</th>\n",
       "      <th>game_date</th>\n",
       "      <th>matchup</th>\n",
       "      <th>opponent</th>\n",
       "      <th>shot_id</th>\n",
       "    </tr>\n",
       "  </thead>\n",
       "  <tbody>\n",
       "    <tr>\n",
       "      <th>0</th>\n",
       "      <td>Jump Shot</td>\n",
       "      <td>Jump Shot</td>\n",
       "      <td>10</td>\n",
       "      <td>20000012</td>\n",
       "      <td>33.9723</td>\n",
       "      <td>167</td>\n",
       "      <td>72</td>\n",
       "      <td>-118.1028</td>\n",
       "      <td>10</td>\n",
       "      <td>1</td>\n",
       "      <td>0</td>\n",
       "      <td>2000-01</td>\n",
       "      <td>27</td>\n",
       "      <td>18</td>\n",
       "      <td>NaN</td>\n",
       "      <td>2PT Field Goal</td>\n",
       "      <td>Right Side(R)</td>\n",
       "      <td>Mid-Range</td>\n",
       "      <td>16-24 ft.</td>\n",
       "      <td>1610612747</td>\n",
       "      <td>Los Angeles Lakers</td>\n",
       "      <td>2000-10-31</td>\n",
       "      <td>LAL @ POR</td>\n",
       "      <td>POR</td>\n",
       "      <td>1</td>\n",
       "    </tr>\n",
       "    <tr>\n",
       "      <th>1</th>\n",
       "      <td>Jump Shot</td>\n",
       "      <td>Jump Shot</td>\n",
       "      <td>12</td>\n",
       "      <td>20000012</td>\n",
       "      <td>34.0443</td>\n",
       "      <td>-157</td>\n",
       "      <td>0</td>\n",
       "      <td>-118.4268</td>\n",
       "      <td>10</td>\n",
       "      <td>1</td>\n",
       "      <td>0</td>\n",
       "      <td>2000-01</td>\n",
       "      <td>22</td>\n",
       "      <td>15</td>\n",
       "      <td>0.0</td>\n",
       "      <td>2PT Field Goal</td>\n",
       "      <td>Left Side(L)</td>\n",
       "      <td>Mid-Range</td>\n",
       "      <td>8-16 ft.</td>\n",
       "      <td>1610612747</td>\n",
       "      <td>Los Angeles Lakers</td>\n",
       "      <td>2000-10-31</td>\n",
       "      <td>LAL @ POR</td>\n",
       "      <td>POR</td>\n",
       "      <td>2</td>\n",
       "    </tr>\n",
       "    <tr>\n",
       "      <th>2</th>\n",
       "      <td>Jump Shot</td>\n",
       "      <td>Jump Shot</td>\n",
       "      <td>35</td>\n",
       "      <td>20000012</td>\n",
       "      <td>33.9093</td>\n",
       "      <td>-101</td>\n",
       "      <td>135</td>\n",
       "      <td>-118.3708</td>\n",
       "      <td>7</td>\n",
       "      <td>1</td>\n",
       "      <td>0</td>\n",
       "      <td>2000-01</td>\n",
       "      <td>45</td>\n",
       "      <td>16</td>\n",
       "      <td>1.0</td>\n",
       "      <td>2PT Field Goal</td>\n",
       "      <td>Left Side Center(LC)</td>\n",
       "      <td>Mid-Range</td>\n",
       "      <td>16-24 ft.</td>\n",
       "      <td>1610612747</td>\n",
       "      <td>Los Angeles Lakers</td>\n",
       "      <td>2000-10-31</td>\n",
       "      <td>LAL @ POR</td>\n",
       "      <td>POR</td>\n",
       "      <td>3</td>\n",
       "    </tr>\n",
       "    <tr>\n",
       "      <th>3</th>\n",
       "      <td>Jump Shot</td>\n",
       "      <td>Jump Shot</td>\n",
       "      <td>43</td>\n",
       "      <td>20000012</td>\n",
       "      <td>33.8693</td>\n",
       "      <td>138</td>\n",
       "      <td>175</td>\n",
       "      <td>-118.1318</td>\n",
       "      <td>6</td>\n",
       "      <td>1</td>\n",
       "      <td>0</td>\n",
       "      <td>2000-01</td>\n",
       "      <td>52</td>\n",
       "      <td>22</td>\n",
       "      <td>0.0</td>\n",
       "      <td>2PT Field Goal</td>\n",
       "      <td>Right Side Center(RC)</td>\n",
       "      <td>Mid-Range</td>\n",
       "      <td>16-24 ft.</td>\n",
       "      <td>1610612747</td>\n",
       "      <td>Los Angeles Lakers</td>\n",
       "      <td>2000-10-31</td>\n",
       "      <td>LAL @ POR</td>\n",
       "      <td>POR</td>\n",
       "      <td>4</td>\n",
       "    </tr>\n",
       "  </tbody>\n",
       "</table>\n",
       "</div>"
      ],
      "text/plain": [
       "  action_type combined_shot_type  game_event_id   game_id      lat  loc_x  \\\n",
       "0   Jump Shot          Jump Shot             10  20000012  33.9723    167   \n",
       "1   Jump Shot          Jump Shot             12  20000012  34.0443   -157   \n",
       "2   Jump Shot          Jump Shot             35  20000012  33.9093   -101   \n",
       "3   Jump Shot          Jump Shot             43  20000012  33.8693    138   \n",
       "\n",
       "   loc_y       lon  minutes_remaining  period  playoffs   season  \\\n",
       "0     72 -118.1028                 10       1         0  2000-01   \n",
       "1      0 -118.4268                 10       1         0  2000-01   \n",
       "2    135 -118.3708                  7       1         0  2000-01   \n",
       "3    175 -118.1318                  6       1         0  2000-01   \n",
       "\n",
       "   seconds_remaining  shot_distance  shot_made_flag       shot_type  \\\n",
       "0                 27             18             NaN  2PT Field Goal   \n",
       "1                 22             15             0.0  2PT Field Goal   \n",
       "2                 45             16             1.0  2PT Field Goal   \n",
       "3                 52             22             0.0  2PT Field Goal   \n",
       "\n",
       "          shot_zone_area shot_zone_basic shot_zone_range     team_id  \\\n",
       "0          Right Side(R)       Mid-Range       16-24 ft.  1610612747   \n",
       "1           Left Side(L)       Mid-Range        8-16 ft.  1610612747   \n",
       "2   Left Side Center(LC)       Mid-Range       16-24 ft.  1610612747   \n",
       "3  Right Side Center(RC)       Mid-Range       16-24 ft.  1610612747   \n",
       "\n",
       "            team_name   game_date    matchup opponent  shot_id  \n",
       "0  Los Angeles Lakers  2000-10-31  LAL @ POR      POR        1  \n",
       "1  Los Angeles Lakers  2000-10-31  LAL @ POR      POR        2  \n",
       "2  Los Angeles Lakers  2000-10-31  LAL @ POR      POR        3  \n",
       "3  Los Angeles Lakers  2000-10-31  LAL @ POR      POR        4  "
      ]
     },
     "execution_count": 40,
     "metadata": {},
     "output_type": "execute_result"
    }
   ],
   "source": [
    "pd.set_option('max_columns', 30)\n",
    "fulldata = pd.read_csv('data.csv');\n",
    "fulldata.head(4)"
   ]
  },
  {
   "cell_type": "code",
   "execution_count": 41,
   "metadata": {
    "collapsed": false,
    "scrolled": true
   },
   "outputs": [
    {
     "data": {
      "text/html": [
       "<div>\n",
       "<table border=\"1\" class=\"dataframe\">\n",
       "  <thead>\n",
       "    <tr style=\"text-align: right;\">\n",
       "      <th></th>\n",
       "      <th>action_type</th>\n",
       "      <th>combined_shot_type</th>\n",
       "      <th>game_event_id</th>\n",
       "      <th>game_id</th>\n",
       "      <th>lat</th>\n",
       "      <th>loc_x</th>\n",
       "      <th>loc_y</th>\n",
       "      <th>lon</th>\n",
       "      <th>minutes_remaining</th>\n",
       "      <th>period</th>\n",
       "      <th>playoffs</th>\n",
       "      <th>season</th>\n",
       "      <th>seconds_remaining</th>\n",
       "      <th>shot_distance</th>\n",
       "      <th>shot_made_flag</th>\n",
       "      <th>shot_type</th>\n",
       "      <th>shot_zone_area</th>\n",
       "      <th>shot_zone_basic</th>\n",
       "      <th>shot_zone_range</th>\n",
       "      <th>team_id</th>\n",
       "      <th>team_name</th>\n",
       "      <th>game_date</th>\n",
       "      <th>matchup</th>\n",
       "      <th>opponent</th>\n",
       "      <th>shot_id</th>\n",
       "    </tr>\n",
       "  </thead>\n",
       "  <tbody>\n",
       "    <tr>\n",
       "      <th>0</th>\n",
       "      <td>1</td>\n",
       "      <td>1</td>\n",
       "      <td>10</td>\n",
       "      <td>20000012</td>\n",
       "      <td>33.9723</td>\n",
       "      <td>167</td>\n",
       "      <td>72</td>\n",
       "      <td>-118.1028</td>\n",
       "      <td>10</td>\n",
       "      <td>1</td>\n",
       "      <td>0</td>\n",
       "      <td>1</td>\n",
       "      <td>27</td>\n",
       "      <td>18</td>\n",
       "      <td>NaN</td>\n",
       "      <td>1</td>\n",
       "      <td>1</td>\n",
       "      <td>1</td>\n",
       "      <td>1</td>\n",
       "      <td>1610612747</td>\n",
       "      <td>1</td>\n",
       "      <td>1</td>\n",
       "      <td>1</td>\n",
       "      <td>1</td>\n",
       "      <td>1</td>\n",
       "    </tr>\n",
       "    <tr>\n",
       "      <th>1</th>\n",
       "      <td>1</td>\n",
       "      <td>1</td>\n",
       "      <td>12</td>\n",
       "      <td>20000012</td>\n",
       "      <td>34.0443</td>\n",
       "      <td>-157</td>\n",
       "      <td>0</td>\n",
       "      <td>-118.4268</td>\n",
       "      <td>10</td>\n",
       "      <td>1</td>\n",
       "      <td>0</td>\n",
       "      <td>1</td>\n",
       "      <td>22</td>\n",
       "      <td>15</td>\n",
       "      <td>0.0</td>\n",
       "      <td>1</td>\n",
       "      <td>2</td>\n",
       "      <td>1</td>\n",
       "      <td>2</td>\n",
       "      <td>1610612747</td>\n",
       "      <td>1</td>\n",
       "      <td>1</td>\n",
       "      <td>1</td>\n",
       "      <td>1</td>\n",
       "      <td>2</td>\n",
       "    </tr>\n",
       "    <tr>\n",
       "      <th>2</th>\n",
       "      <td>1</td>\n",
       "      <td>1</td>\n",
       "      <td>35</td>\n",
       "      <td>20000012</td>\n",
       "      <td>33.9093</td>\n",
       "      <td>-101</td>\n",
       "      <td>135</td>\n",
       "      <td>-118.3708</td>\n",
       "      <td>7</td>\n",
       "      <td>1</td>\n",
       "      <td>0</td>\n",
       "      <td>1</td>\n",
       "      <td>45</td>\n",
       "      <td>16</td>\n",
       "      <td>1.0</td>\n",
       "      <td>1</td>\n",
       "      <td>3</td>\n",
       "      <td>1</td>\n",
       "      <td>1</td>\n",
       "      <td>1610612747</td>\n",
       "      <td>1</td>\n",
       "      <td>1</td>\n",
       "      <td>1</td>\n",
       "      <td>1</td>\n",
       "      <td>3</td>\n",
       "    </tr>\n",
       "    <tr>\n",
       "      <th>3</th>\n",
       "      <td>1</td>\n",
       "      <td>1</td>\n",
       "      <td>43</td>\n",
       "      <td>20000012</td>\n",
       "      <td>33.8693</td>\n",
       "      <td>138</td>\n",
       "      <td>175</td>\n",
       "      <td>-118.1318</td>\n",
       "      <td>6</td>\n",
       "      <td>1</td>\n",
       "      <td>0</td>\n",
       "      <td>1</td>\n",
       "      <td>52</td>\n",
       "      <td>22</td>\n",
       "      <td>0.0</td>\n",
       "      <td>1</td>\n",
       "      <td>4</td>\n",
       "      <td>1</td>\n",
       "      <td>1</td>\n",
       "      <td>1610612747</td>\n",
       "      <td>1</td>\n",
       "      <td>1</td>\n",
       "      <td>1</td>\n",
       "      <td>1</td>\n",
       "      <td>4</td>\n",
       "    </tr>\n",
       "  </tbody>\n",
       "</table>\n",
       "</div>"
      ],
      "text/plain": [
       "   action_type  combined_shot_type  game_event_id   game_id      lat  loc_x  \\\n",
       "0            1                   1             10  20000012  33.9723    167   \n",
       "1            1                   1             12  20000012  34.0443   -157   \n",
       "2            1                   1             35  20000012  33.9093   -101   \n",
       "3            1                   1             43  20000012  33.8693    138   \n",
       "\n",
       "   loc_y       lon  minutes_remaining  period  playoffs  season  \\\n",
       "0     72 -118.1028                 10       1         0       1   \n",
       "1      0 -118.4268                 10       1         0       1   \n",
       "2    135 -118.3708                  7       1         0       1   \n",
       "3    175 -118.1318                  6       1         0       1   \n",
       "\n",
       "   seconds_remaining  shot_distance  shot_made_flag  shot_type  \\\n",
       "0                 27             18             NaN          1   \n",
       "1                 22             15             0.0          1   \n",
       "2                 45             16             1.0          1   \n",
       "3                 52             22             0.0          1   \n",
       "\n",
       "   shot_zone_area  shot_zone_basic  shot_zone_range     team_id  team_name  \\\n",
       "0               1                1                1  1610612747          1   \n",
       "1               2                1                2  1610612747          1   \n",
       "2               3                1                1  1610612747          1   \n",
       "3               4                1                1  1610612747          1   \n",
       "\n",
       "   game_date  matchup  opponent  shot_id  \n",
       "0          1        1         1        1  \n",
       "1          1        1         1        2  \n",
       "2          1        1         1        3  \n",
       "3          1        1         1        4  "
      ]
     },
     "execution_count": 41,
     "metadata": {},
     "output_type": "execute_result"
    }
   ],
   "source": [
    "fulldata['matchup'] = fulldata['matchup'].map(lambda x: x.split()[1])\n",
    "\n",
    "text_columns = ['action_type', 'season', 'game_date', 'combined_shot_type', 'shot_type', 'shot_zone_area', 'shot_zone_basic', 'shot_zone_range', 'team_name', 'matchup', 'opponent']\n",
    "for col in text_columns:\n",
    "    uniq_words = fulldata[col].unique()\n",
    "    uniq_words = dict(enumerate(uniq_words, 1)) # 1 to enumerate from 1\n",
    "    uniq_words = {v:k for k,v in uniq_words.items()}\n",
    "    fulldata = fulldata.replace({col: uniq_words})\n",
    "fulldata.head(4)"
   ]
  },
  {
   "cell_type": "code",
   "execution_count": 42,
   "metadata": {
    "collapsed": false
   },
   "outputs": [
    {
     "data": {
      "text/html": [
       "<div>\n",
       "<table border=\"1\" class=\"dataframe\">\n",
       "  <thead>\n",
       "    <tr style=\"text-align: right;\">\n",
       "      <th></th>\n",
       "      <th>action_type</th>\n",
       "      <th>combined_shot_type</th>\n",
       "      <th>game_event_id</th>\n",
       "      <th>game_id</th>\n",
       "      <th>lat</th>\n",
       "      <th>loc_x</th>\n",
       "      <th>loc_y</th>\n",
       "      <th>lon</th>\n",
       "      <th>minutes_remaining</th>\n",
       "      <th>period</th>\n",
       "      <th>playoffs</th>\n",
       "      <th>season</th>\n",
       "      <th>seconds_remaining</th>\n",
       "      <th>shot_distance</th>\n",
       "      <th>shot_made_flag</th>\n",
       "      <th>shot_type</th>\n",
       "      <th>shot_zone_area</th>\n",
       "      <th>shot_zone_basic</th>\n",
       "      <th>shot_zone_range</th>\n",
       "      <th>team_id</th>\n",
       "      <th>team_name</th>\n",
       "      <th>game_date</th>\n",
       "      <th>matchup</th>\n",
       "      <th>opponent</th>\n",
       "      <th>shot_id</th>\n",
       "    </tr>\n",
       "  </thead>\n",
       "  <tbody>\n",
       "    <tr>\n",
       "      <th>1</th>\n",
       "      <td>1</td>\n",
       "      <td>1</td>\n",
       "      <td>12</td>\n",
       "      <td>20000012</td>\n",
       "      <td>34.0443</td>\n",
       "      <td>-157</td>\n",
       "      <td>0</td>\n",
       "      <td>-118.4268</td>\n",
       "      <td>10</td>\n",
       "      <td>1</td>\n",
       "      <td>0</td>\n",
       "      <td>1</td>\n",
       "      <td>22</td>\n",
       "      <td>15</td>\n",
       "      <td>0.0</td>\n",
       "      <td>1</td>\n",
       "      <td>2</td>\n",
       "      <td>1</td>\n",
       "      <td>2</td>\n",
       "      <td>1610612747</td>\n",
       "      <td>1</td>\n",
       "      <td>1</td>\n",
       "      <td>1</td>\n",
       "      <td>1</td>\n",
       "      <td>2</td>\n",
       "    </tr>\n",
       "    <tr>\n",
       "      <th>2</th>\n",
       "      <td>1</td>\n",
       "      <td>1</td>\n",
       "      <td>35</td>\n",
       "      <td>20000012</td>\n",
       "      <td>33.9093</td>\n",
       "      <td>-101</td>\n",
       "      <td>135</td>\n",
       "      <td>-118.3708</td>\n",
       "      <td>7</td>\n",
       "      <td>1</td>\n",
       "      <td>0</td>\n",
       "      <td>1</td>\n",
       "      <td>45</td>\n",
       "      <td>16</td>\n",
       "      <td>1.0</td>\n",
       "      <td>1</td>\n",
       "      <td>3</td>\n",
       "      <td>1</td>\n",
       "      <td>1</td>\n",
       "      <td>1610612747</td>\n",
       "      <td>1</td>\n",
       "      <td>1</td>\n",
       "      <td>1</td>\n",
       "      <td>1</td>\n",
       "      <td>3</td>\n",
       "    </tr>\n",
       "    <tr>\n",
       "      <th>3</th>\n",
       "      <td>1</td>\n",
       "      <td>1</td>\n",
       "      <td>43</td>\n",
       "      <td>20000012</td>\n",
       "      <td>33.8693</td>\n",
       "      <td>138</td>\n",
       "      <td>175</td>\n",
       "      <td>-118.1318</td>\n",
       "      <td>6</td>\n",
       "      <td>1</td>\n",
       "      <td>0</td>\n",
       "      <td>1</td>\n",
       "      <td>52</td>\n",
       "      <td>22</td>\n",
       "      <td>0.0</td>\n",
       "      <td>1</td>\n",
       "      <td>4</td>\n",
       "      <td>1</td>\n",
       "      <td>1</td>\n",
       "      <td>1610612747</td>\n",
       "      <td>1</td>\n",
       "      <td>1</td>\n",
       "      <td>1</td>\n",
       "      <td>1</td>\n",
       "      <td>4</td>\n",
       "    </tr>\n",
       "    <tr>\n",
       "      <th>4</th>\n",
       "      <td>2</td>\n",
       "      <td>2</td>\n",
       "      <td>155</td>\n",
       "      <td>20000012</td>\n",
       "      <td>34.0443</td>\n",
       "      <td>0</td>\n",
       "      <td>0</td>\n",
       "      <td>-118.2698</td>\n",
       "      <td>6</td>\n",
       "      <td>2</td>\n",
       "      <td>0</td>\n",
       "      <td>1</td>\n",
       "      <td>19</td>\n",
       "      <td>0</td>\n",
       "      <td>1.0</td>\n",
       "      <td>1</td>\n",
       "      <td>5</td>\n",
       "      <td>2</td>\n",
       "      <td>3</td>\n",
       "      <td>1610612747</td>\n",
       "      <td>1</td>\n",
       "      <td>1</td>\n",
       "      <td>1</td>\n",
       "      <td>1</td>\n",
       "      <td>5</td>\n",
       "    </tr>\n",
       "  </tbody>\n",
       "</table>\n",
       "</div>"
      ],
      "text/plain": [
       "   action_type  combined_shot_type  game_event_id   game_id      lat  loc_x  \\\n",
       "1            1                   1             12  20000012  34.0443   -157   \n",
       "2            1                   1             35  20000012  33.9093   -101   \n",
       "3            1                   1             43  20000012  33.8693    138   \n",
       "4            2                   2            155  20000012  34.0443      0   \n",
       "\n",
       "   loc_y       lon  minutes_remaining  period  playoffs  season  \\\n",
       "1      0 -118.4268                 10       1         0       1   \n",
       "2    135 -118.3708                  7       1         0       1   \n",
       "3    175 -118.1318                  6       1         0       1   \n",
       "4      0 -118.2698                  6       2         0       1   \n",
       "\n",
       "   seconds_remaining  shot_distance  shot_made_flag  shot_type  \\\n",
       "1                 22             15             0.0          1   \n",
       "2                 45             16             1.0          1   \n",
       "3                 52             22             0.0          1   \n",
       "4                 19              0             1.0          1   \n",
       "\n",
       "   shot_zone_area  shot_zone_basic  shot_zone_range     team_id  team_name  \\\n",
       "1               2                1                2  1610612747          1   \n",
       "2               3                1                1  1610612747          1   \n",
       "3               4                1                1  1610612747          1   \n",
       "4               5                2                3  1610612747          1   \n",
       "\n",
       "   game_date  matchup  opponent  shot_id  \n",
       "1          1        1         1        2  \n",
       "2          1        1         1        3  \n",
       "3          1        1         1        4  \n",
       "4          1        1         1        5  "
      ]
     },
     "execution_count": 42,
     "metadata": {},
     "output_type": "execute_result"
    }
   ],
   "source": [
    "data_test = fulldata[pd.isnull(fulldata['shot_made_flag'])]\n",
    "data = fulldata[pd.notnull(fulldata['shot_made_flag'])]\n",
    "data.head(4)"
   ]
  },
  {
   "cell_type": "code",
   "execution_count": 43,
   "metadata": {
    "collapsed": true
   },
   "outputs": [],
   "source": [
    "dTrain, dTest, YTrain, YTest = model_selection.train_test_split(data.ix[:, data.columns!='shot_made_flag'], data['shot_made_flag'], test_size=0.3, random_state=1)\n",
    "r_X, r_Y = data.ix[:, data.columns!='shot_made_flag'],  data['shot_made_flag']"
   ]
  },
  {
   "cell_type": "code",
   "execution_count": 74,
   "metadata": {
    "collapsed": true
   },
   "outputs": [],
   "source": [
    "XGBoost = xgb.XGBClassifier()\n",
    "# xgbRegr = xgb.XGBRegressor(max_depth=5, learning_rate=0.01, n_estimators=400) #best"
   ]
  },
  {
   "cell_type": "code",
   "execution_count": 85,
   "metadata": {
    "collapsed": false
   },
   "outputs": [
    {
     "data": {
      "text/plain": [
       "XGBClassifier(base_score=0.5, colsample_bylevel=1, colsample_bytree=1,\n",
       "       gamma=0, learning_rate=0.1, max_delta_step=0, max_depth=3,\n",
       "       min_child_weight=1, missing=None, n_estimators=100, nthread=-1,\n",
       "       objective='binary:logistic', reg_alpha=0, reg_lambda=1,\n",
       "       scale_pos_weight=1, seed=0, silent=True, subsample=1)"
      ]
     },
     "execution_count": 85,
     "metadata": {},
     "output_type": "execute_result"
    }
   ],
   "source": [
    "# XGBoost.fit(dTrain, YTrain)\n",
    "xgbRegr.fit(r_X, r_Y)"
   ]
  },
  {
   "cell_type": "code",
   "execution_count": 55,
   "metadata": {
    "collapsed": false
   },
   "outputs": [
    {
     "name": "stdout",
     "output_type": "stream",
     "text": [
      "XGBoost:       0.7342  0.7033\n"
     ]
    }
   ],
   "source": [
    "aucXGBTrain = metrics.roc_auc_score(YTrain, XGBoost.predict_proba(dTrain)[:,1])\n",
    "aucXGBTest = metrics.roc_auc_score(YTest, XGBoost.predict_proba(dTest)[:,1])\n",
    "print('XGBoost:       {:6.4}  {:6.4}'.format(aucXGBTrain, aucXGBTest))\n",
    "# XGBoost:       0.7344   0.702"
   ]
  },
  {
   "cell_type": "code",
   "execution_count": 68,
   "metadata": {
    "collapsed": true
   },
   "outputs": [],
   "source": [
    "indices = [x+1 for x in data_test.index]"
   ]
  },
  {
   "cell_type": "code",
   "execution_count": 90,
   "metadata": {
    "collapsed": false
   },
   "outputs": [
    {
     "name": "stdout",
     "output_type": "stream",
     "text": [
      "(1, 0.4295097)\n",
      "(8, 0.63073987)\n",
      "(17, 0.72065878)\n"
     ]
    }
   ],
   "source": [
    "test_acc = XGBoost.predict_proba(data_test.ix[:, data_test.columns!='shot_made_flag'])[:,1]\n",
    "res = list(zip(indices, test_acc))\n",
    "for z in res[:3]:\n",
    "    print(z)"
   ]
  },
  {
   "cell_type": "code",
   "execution_count": 87,
   "metadata": {
    "collapsed": false
   },
   "outputs": [
    {
     "name": "stdout",
     "output_type": "stream",
     "text": [
      "(1, 0.26617146)\n",
      "(8, 0.30343312)\n",
      "(17, 0.53064167)\n"
     ]
    }
   ],
   "source": [
    "r_test_acc = xgbRegr.predict(data_test.ix[:, data_test.columns!='shot_made_flag'])\n",
    "r_res = list(zip(indices, r_test_acc))\n",
    "for z in r_res[:3]:\n",
    "    print(z)"
   ]
  },
  {
   "cell_type": "code",
   "execution_count": 159,
   "metadata": {
    "collapsed": false
   },
   "outputs": [],
   "source": [
    "with open('result_classiffier.csv', 'w') as f:\n",
    "    f.write('shot_id,shot_made_flag\\n')\n",
    "    for s,m in res:\n",
    "        f.write(str(s) + ',' +str(m)+'\\n')"
   ]
  },
  {
   "cell_type": "code",
   "execution_count": 77,
   "metadata": {
    "collapsed": true
   },
   "outputs": [],
   "source": [
    "with open('result_regressor.csv', 'w') as f:\n",
    "    f.write('shot_id,shot_made_flag\\n')\n",
    "    for s,m in r_res:\n",
    "        f.write(str(s) + ',' +str(m)+'\\n')"
   ]
  },
  {
   "cell_type": "code",
   "execution_count": 14,
   "metadata": {
    "collapsed": true
   },
   "outputs": [],
   "source": [
    "def fit_and_test_classifier(classifier):\n",
    "    classifier.fit(dTrain, YTrain)\n",
    "    aucXGBTrain = metrics.roc_auc_score(YTrain, classifier.predict_proba(dTrain)[:,1])\n",
    "    aucXGBTest = metrics.roc_auc_score(YTest, classifier.predict_proba(dTest)[:,1])\n",
    "    print('XGBoost:       {:6.4}  {:6.4}'.format(aucXGBTrain, aucXGBTest))"
   ]
  },
  {
   "cell_type": "code",
   "execution_count": 16,
   "metadata": {
    "collapsed": false
   },
   "outputs": [
    {
     "name": "stdout",
     "output_type": "stream",
     "text": [
      "depth: 2, lr: 0.5, n_estiminators: 50\n",
      "XGBoost:        0.728  0.6982\n",
      "depth: 2, lr: 0.5, n_estiminators: 100\n",
      "XGBoost:       0.7428  0.6978\n",
      "depth: 2, lr: 0.5, n_estiminators: 200\n",
      "XGBoost:       0.7645  0.6973\n",
      "depth: 2, lr: 0.1, n_estiminators: 50\n",
      "XGBoost:       0.7073  0.6957\n",
      "depth: 2, lr: 0.1, n_estiminators: 100\n",
      "XGBoost:       0.7157  0.6983\n",
      "depth: 2, lr: 0.1, n_estiminators: 200\n",
      "XGBoost:       0.7263  0.7001\n",
      "depth: 2, lr: 0.01, n_estiminators: 50\n",
      "XGBoost:       0.6731  0.6721\n",
      "depth: 2, lr: 0.01, n_estiminators: 100\n",
      "XGBoost:        0.674  0.6728\n",
      "depth: 2, lr: 0.01, n_estiminators: 200\n",
      "XGBoost:       0.6923  0.6855\n",
      "depth: 3, lr: 0.5, n_estiminators: 50\n",
      "XGBoost:       0.7574  0.7006\n",
      "depth: 3, lr: 0.5, n_estiminators: 100\n",
      "XGBoost:       0.7893  0.6947\n",
      "depth: 3, lr: 0.5, n_estiminators: 200\n",
      "XGBoost:       0.8294  0.6845\n",
      "depth: 3, lr: 0.1, n_estiminators: 50\n",
      "XGBoost:       0.7196  0.6992\n",
      "depth: 3, lr: 0.1, n_estiminators: 100\n",
      "XGBoost:       0.7344   0.702\n",
      "depth: 3, lr: 0.1, n_estiminators: 200\n",
      "XGBoost:       0.7531  0.7038\n",
      "depth: 3, lr: 0.01, n_estiminators: 50\n",
      "XGBoost:       0.6881  0.6848\n",
      "depth: 3, lr: 0.01, n_estiminators: 100\n",
      "XGBoost:       0.7013   0.692\n",
      "depth: 3, lr: 0.01, n_estiminators: 200\n",
      "XGBoost:        0.707  0.6975\n",
      "depth: 4, lr: 0.5, n_estiminators: 50\n",
      "XGBoost:        0.793  0.6967\n",
      "depth: 4, lr: 0.5, n_estiminators: 100\n",
      "XGBoost:       0.8435  0.6923\n",
      "depth: 4, lr: 0.5, n_estiminators: 200\n",
      "XGBoost:        0.903  0.6802\n",
      "depth: 4, lr: 0.1, n_estiminators: 50\n",
      "XGBoost:       0.7369   0.705\n",
      "depth: 4, lr: 0.1, n_estiminators: 100\n",
      "XGBoost:       0.7571  0.7052\n",
      "depth: 4, lr: 0.1, n_estiminators: 200\n",
      "XGBoost:       0.7891  0.7059\n",
      "depth: 4, lr: 0.01, n_estiminators: 50\n",
      "XGBoost:       0.7032  0.6988\n",
      "depth: 4, lr: 0.01, n_estiminators: 100\n",
      "XGBoost:       0.7098  0.6994\n",
      "depth: 4, lr: 0.01, n_estiminators: 200\n",
      "XGBoost:        0.718  0.7023\n"
     ]
    }
   ],
   "source": [
    "depths = [2,3,4]\n",
    "lrs = [0.5, 0.1, 0.01]\n",
    "n_ests = [50,100,200]\n",
    "for d in depths:\n",
    "    for lr in lrs:\n",
    "        for e in n_ests:\n",
    "            c = xgb.XGBClassifier(max_depth=d, learning_rate=lr, n_estimators=e)\n",
    "            print('depth: {0}, lr: {1}, n_estiminators: {2}'.format(d, lr, e))\n",
    "            fit_and_test_classifier(c)"
   ]
  },
  {
   "cell_type": "code",
   "execution_count": 72,
   "metadata": {
    "collapsed": false
   },
   "outputs": [
    {
     "name": "stdout",
     "output_type": "stream",
     "text": [
      "XGBoost:       0.9051  0.7024\n"
     ]
    }
   ],
   "source": [
    "c = xgb.XGBClassifier(max_depth=7, learning_rate=0.012, n_estimators=1000, subsample=0.62, colsample_bytree=0.6, seed=1)\n",
    "fit_and_test_classifier(c)"
   ]
  },
  {
   "cell_type": "code",
   "execution_count": 78,
   "metadata": {
    "collapsed": false
   },
   "outputs": [
    {
     "data": {
      "text/plain": [
       "array([ 0.03909082,  0.00920583,  0.11872531,  0.10328721,  0.09501826,\n",
       "        0.09469239,  0.03891431,  0.04177925,  0.05253296,  0.0154924 ,\n",
       "        0.00086899,  0.03148719,  0.0957922 ,  0.04061155,  0.00133064,\n",
       "        0.00951812,  0.00693832,  0.00657171,  0.        ,  0.        ,\n",
       "        0.04439979,  0.01446048,  0.07406753,  0.06521474], dtype=float32)"
      ]
     },
     "execution_count": 78,
     "metadata": {},
     "output_type": "execute_result"
    }
   ],
   "source": [
    "c.feature_importances_\n",
    "# 7057"
   ]
  },
  {
   "cell_type": "code",
   "execution_count": 79,
   "metadata": {
    "collapsed": false
   },
   "outputs": [
    {
     "data": {
      "text/plain": [
       "<matplotlib.axes._subplots.AxesSubplot at 0x7f0f027a5048>"
      ]
     },
     "execution_count": 79,
     "metadata": {},
     "output_type": "execute_result"
    },
    {
     "data": {
      "image/png": "[encoded data removed]",
      "text/plain": [
       "<matplotlib.figure.Figure at 0x7f0eff247ac8>"
      ]
     },
     "metadata": {},
     "output_type": "display_data"
    }
   ],
   "source": [
    "xgb.plot_importance(c)"
   ]
  },
  {
   "cell_type": "code",
   "execution_count": 80,
   "metadata": {
    "collapsed": false
   },
   "outputs": [
    {
     "data": {
      "text/plain": [
       "<matplotlib.axes._subplots.AxesSubplot at 0x7f0eff108c50>"
      ]
     },
     "execution_count": 80,
     "metadata": {},
     "output_type": "execute_result"
    },
    {
     "data": {
      "image/png": "[encoded data removed]",
      "text/plain": [
       "<matplotlib.figure.Figure at 0x7f0eff11c128>"
      ]
     },
     "metadata": {},
     "output_type": "display_data"
    }
   ],
   "source": [
    "xgb.plot_importance(c)"
   ]
  },
  {
   "cell_type": "code",
   "execution_count": 81,
   "metadata": {
    "collapsed": false
   },
   "outputs": [
    {
     "data": {
      "image/png": "[encoded data removed]",
      "text/plain": [
       "<matplotlib.figure.Figure at 0x7f0eff4166d8>"
      ]
     },
     "metadata": {},
     "output_type": "display_data"
    }
   ],
   "source": [
    "plt.bar(range(len(c.feature_importances_)), c.feature_importances_)\n",
    "plt.show()"
   ]
  },
  {
   "cell_type": "code",
   "execution_count": 49,
   "metadata": {
    "collapsed": false
   },
   "outputs": [
    {
     "data": {
      "image/png": "[encoded data removed]",
      "text/plain": [
       "<matplotlib.figure.Figure at 0x7f0eff404208>"
      ]
     },
     "metadata": {},
     "output_type": "display_data"
    }
   ],
   "source": [
    "plt.bar(range(len(c.feature_importances_)), c.feature_importances_)\n",
    "plt.show()"
   ]
  },
  {
   "cell_type": "code",
   "execution_count": 25,
   "metadata": {
    "collapsed": false
   },
   "outputs": [
    {
     "data": {
      "text/html": [
       "<div>\n",
       "<table border=\"1\" class=\"dataframe\">\n",
       "  <thead>\n",
       "    <tr style=\"text-align: right;\">\n",
       "      <th></th>\n",
       "      <th>action_type</th>\n",
       "      <th>combined_shot_type</th>\n",
       "      <th>game_event_id</th>\n",
       "      <th>game_id</th>\n",
       "      <th>lat</th>\n",
       "      <th>loc_x</th>\n",
       "      <th>loc_y</th>\n",
       "      <th>lon</th>\n",
       "      <th>minutes_remaining</th>\n",
       "      <th>period</th>\n",
       "      <th>playoffs</th>\n",
       "      <th>season</th>\n",
       "      <th>seconds_remaining</th>\n",
       "      <th>shot_distance</th>\n",
       "      <th>shot_made_flag</th>\n",
       "      <th>shot_type</th>\n",
       "      <th>shot_zone_area</th>\n",
       "      <th>shot_zone_basic</th>\n",
       "      <th>shot_zone_range</th>\n",
       "      <th>team_id</th>\n",
       "      <th>team_name</th>\n",
       "      <th>game_date</th>\n",
       "      <th>matchup</th>\n",
       "      <th>opponent</th>\n",
       "      <th>shot_id</th>\n",
       "    </tr>\n",
       "  </thead>\n",
       "  <tbody>\n",
       "    <tr>\n",
       "      <th>0</th>\n",
       "      <td>Jump Shot</td>\n",
       "      <td>Jump Shot</td>\n",
       "      <td>10</td>\n",
       "      <td>20000012</td>\n",
       "      <td>33.9723</td>\n",
       "      <td>167</td>\n",
       "      <td>72</td>\n",
       "      <td>-118.1028</td>\n",
       "      <td>10</td>\n",
       "      <td>1</td>\n",
       "      <td>0</td>\n",
       "      <td>2000-01</td>\n",
       "      <td>27</td>\n",
       "      <td>18</td>\n",
       "      <td>NaN</td>\n",
       "      <td>2PT Field Goal</td>\n",
       "      <td>Right Side(R)</td>\n",
       "      <td>Mid-Range</td>\n",
       "      <td>16-24 ft.</td>\n",
       "      <td>1610612747</td>\n",
       "      <td>Los Angeles Lakers</td>\n",
       "      <td>2000-10-31</td>\n",
       "      <td>LAL @ POR</td>\n",
       "      <td>POR</td>\n",
       "      <td>1</td>\n",
       "    </tr>\n",
       "    <tr>\n",
       "      <th>1</th>\n",
       "      <td>Jump Shot</td>\n",
       "      <td>Jump Shot</td>\n",
       "      <td>12</td>\n",
       "      <td>20000012</td>\n",
       "      <td>34.0443</td>\n",
       "      <td>-157</td>\n",
       "      <td>0</td>\n",
       "      <td>-118.4268</td>\n",
       "      <td>10</td>\n",
       "      <td>1</td>\n",
       "      <td>0</td>\n",
       "      <td>2000-01</td>\n",
       "      <td>22</td>\n",
       "      <td>15</td>\n",
       "      <td>0.0</td>\n",
       "      <td>2PT Field Goal</td>\n",
       "      <td>Left Side(L)</td>\n",
       "      <td>Mid-Range</td>\n",
       "      <td>8-16 ft.</td>\n",
       "      <td>1610612747</td>\n",
       "      <td>Los Angeles Lakers</td>\n",
       "      <td>2000-10-31</td>\n",
       "      <td>LAL @ POR</td>\n",
       "      <td>POR</td>\n",
       "      <td>2</td>\n",
       "    </tr>\n",
       "    <tr>\n",
       "      <th>2</th>\n",
       "      <td>Jump Shot</td>\n",
       "      <td>Jump Shot</td>\n",
       "      <td>35</td>\n",
       "      <td>20000012</td>\n",
       "      <td>33.9093</td>\n",
       "      <td>-101</td>\n",
       "      <td>135</td>\n",
       "      <td>-118.3708</td>\n",
       "      <td>7</td>\n",
       "      <td>1</td>\n",
       "      <td>0</td>\n",
       "      <td>2000-01</td>\n",
       "      <td>45</td>\n",
       "      <td>16</td>\n",
       "      <td>1.0</td>\n",
       "      <td>2PT Field Goal</td>\n",
       "      <td>Left Side Center(LC)</td>\n",
       "      <td>Mid-Range</td>\n",
       "      <td>16-24 ft.</td>\n",
       "      <td>1610612747</td>\n",
       "      <td>Los Angeles Lakers</td>\n",
       "      <td>2000-10-31</td>\n",
       "      <td>LAL @ POR</td>\n",
       "      <td>POR</td>\n",
       "      <td>3</td>\n",
       "    </tr>\n",
       "    <tr>\n",
       "      <th>3</th>\n",
       "      <td>Jump Shot</td>\n",
       "      <td>Jump Shot</td>\n",
       "      <td>43</td>\n",
       "      <td>20000012</td>\n",
       "      <td>33.8693</td>\n",
       "      <td>138</td>\n",
       "      <td>175</td>\n",
       "      <td>-118.1318</td>\n",
       "      <td>6</td>\n",
       "      <td>1</td>\n",
       "      <td>0</td>\n",
       "      <td>2000-01</td>\n",
       "      <td>52</td>\n",
       "      <td>22</td>\n",
       "      <td>0.0</td>\n",
       "      <td>2PT Field Goal</td>\n",
       "      <td>Right Side Center(RC)</td>\n",
       "      <td>Mid-Range</td>\n",
       "      <td>16-24 ft.</td>\n",
       "      <td>1610612747</td>\n",
       "      <td>Los Angeles Lakers</td>\n",
       "      <td>2000-10-31</td>\n",
       "      <td>LAL @ POR</td>\n",
       "      <td>POR</td>\n",
       "      <td>4</td>\n",
       "    </tr>\n",
       "  </tbody>\n",
       "</table>\n",
       "</div>"
      ],
      "text/plain": [
       "  action_type combined_shot_type  game_event_id   game_id      lat  loc_x  \\\n",
       "0   Jump Shot          Jump Shot             10  20000012  33.9723    167   \n",
       "1   Jump Shot          Jump Shot             12  20000012  34.0443   -157   \n",
       "2   Jump Shot          Jump Shot             35  20000012  33.9093   -101   \n",
       "3   Jump Shot          Jump Shot             43  20000012  33.8693    138   \n",
       "\n",
       "   loc_y       lon  minutes_remaining  period  playoffs   season  \\\n",
       "0     72 -118.1028                 10       1         0  2000-01   \n",
       "1      0 -118.4268                 10       1         0  2000-01   \n",
       "2    135 -118.3708                  7       1         0  2000-01   \n",
       "3    175 -118.1318                  6       1         0  2000-01   \n",
       "\n",
       "   seconds_remaining  shot_distance  shot_made_flag       shot_type  \\\n",
       "0                 27             18             NaN  2PT Field Goal   \n",
       "1                 22             15             0.0  2PT Field Goal   \n",
       "2                 45             16             1.0  2PT Field Goal   \n",
       "3                 52             22             0.0  2PT Field Goal   \n",
       "\n",
       "          shot_zone_area shot_zone_basic shot_zone_range     team_id  \\\n",
       "0          Right Side(R)       Mid-Range       16-24 ft.  1610612747   \n",
       "1           Left Side(L)       Mid-Range        8-16 ft.  1610612747   \n",
       "2   Left Side Center(LC)       Mid-Range       16-24 ft.  1610612747   \n",
       "3  Right Side Center(RC)       Mid-Range       16-24 ft.  1610612747   \n",
       "\n",
       "            team_name   game_date    matchup opponent  shot_id  \n",
       "0  Los Angeles Lakers  2000-10-31  LAL @ POR      POR        1  \n",
       "1  Los Angeles Lakers  2000-10-31  LAL @ POR      POR        2  \n",
       "2  Los Angeles Lakers  2000-10-31  LAL @ POR      POR        3  \n",
       "3  Los Angeles Lakers  2000-10-31  LAL @ POR      POR        4  "
      ]
     },
     "execution_count": 25,
     "metadata": {},
     "output_type": "execute_result"
    }
   ],
   "source": [
    "tmpdata = pd.read_csv('data.csv');\n",
    "tmpdata.head(4)"
   ]
  },
  {
   "cell_type": "code",
   "execution_count": null,
   "metadata": {
    "collapsed": true
   },
   "outputs": [],
   "source": []
  }
 ],
 "metadata": {
  "anaconda-cloud": {},
  "kernelspec": {
   "display_name": "Python [default]",
   "language": "python",
   "name": "python3"
  },
  "language_info": {
   "codemirror_mode": {
    "name": "ipython",
    "version": 3
   },
   "file_extension": ".py",
   "mimetype": "text/x-python",
   "name": "python",
   "nbconvert_exporter": "python",
   "pygments_lexer": "ipython3",
   "version": "3.5.2"
  }
 },
 "nbformat": 4,
 "nbformat_minor": 1
}
